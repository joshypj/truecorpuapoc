{
 "cells": [
  {
   "cell_type": "markdown",
   "metadata": {
    "tags": []
   },
   "source": [
    "# Prediction"
   ]
  },
  {
   "cell_type": "code",
   "execution_count": 1,
   "metadata": {},
   "outputs": [],
   "source": [
    "import requests, json\n",
    "import numpy as np\n",
    "from requests.packages.urllib3.exceptions import InsecureRequestWarning\n",
    "requests.packages.urllib3.disable_warnings(InsecureRequestWarning)"
   ]
  },
  {
   "cell_type": "markdown",
   "metadata": {
    "tags": []
   },
   "source": [
    "## Update below variables as per your environment."
   ]
  },
  {
   "cell_type": "code",
   "execution_count": null,
   "metadata": {},
   "outputs": [],
   "source": [
    "import requests\n",
    "EZAF_ENV = \"hpe-staging-ezaf\" \n",
    "token_url = f\"https://keycloak.{EZAF_ENV}.com/realms/UA/protocol/openid-connect/token\"\n",
    "\n",
    "data = {\n",
    "    \"username\" : input(\"Enter username.\"),\n",
    "    \"password\" : input(\"Enter password.\"),\n",
    "    \"grant_type\" : \"password\",\n",
    "    \"client_id\" : \"ua-grant\",\n",
    "}\n",
    "\n",
    "token_responce = requests.post(token_url, data=data, allow_redirects=True, verify=False)\n",
    "\n",
    "token = token_responce.json()[\"access_token\"]"
   ]
  },
  {
   "cell_type": "code",
   "execution_count": 2,
   "metadata": {},
   "outputs": [],
   "source": [
    "KUBEFLOW_URL = \"kubeflow.hpe-ezaf.com\"\n",
    "DEPLOYMENT_NAME = \"loan-approval-1\"\n",
    "NAMESPACE=\"hpedemo-user01\"\n",
    "SVC = f'{DEPLOYMENT_NAME}-predictor-default.{NAMESPACE}.svc.cluster.local'\n",
    "\n",
    "URL = \"http://{}/v2/models/{}/infer\".format(SVC, DEPLOYMENT_NAME)"
   ]
  },
  {
   "cell_type": "code",
   "execution_count": 3,
   "metadata": {},
   "outputs": [
    {
     "name": "stdout",
     "output_type": "stream",
     "text": [
      "http://loan-approval-1-predictor-default.hpedemo-user01.svc.cluster.local/v2/models/loan-approval-1/infer\n"
     ]
    }
   ],
   "source": [
    "PREDICTION_URL = KUBEFLOW_URL#\"{}/seldon/{}/{}/api/v1.0/predictions\".format(KUBEFLOW_URL,NAMESPACE,SELDON_DEPLOYMENT_NAME)\n",
    "print(URL)"
   ]
  },
  {
   "cell_type": "code",
   "execution_count": 5,
   "metadata": {},
   "outputs": [],
   "source": [
    "\n",
    "headers = {\n",
    "    'Authorization': f\"Bearer {token}\",\n",
    "    'Accept': 'application/json',\n",
    "    'Content-Type': 'application/json'\n",
    "}\n",
    "\n",
    "Approved = {'Dependents': 0.0,\n",
    " 'LoanAmount': 105000.0,\n",
    " 'Loan_Amount_Term': 360.0,\n",
    " 'Credit_History': 1.0,\n",
    " 'Property_Area': 2.0,\n",
    " 'Credit_History_Income_Sum': 5550331.91998864,\n",
    " 'Dependents_LoanAmount_Sum': 72780000.0,\n",
    " 'Dependents_EMI_mean': 1121.6651819119277,\n",
    " 'Loan_Amount_Term_per_Total_Income': 0.06154898273209095,\n",
    " 'EMI_per_Loan_Amount_Term': 2.4498217625000005,\n",
    " 'EMI_per_LoanAmount': 0.008399388900000002,\n",
    " 'Property_Area_LoanAmount_per_Total_Income_mean': 23.36319041854885,\n",
    " 'Loan_Amount_Term_Bins': 1.0,\n",
    " 'Total_Income_Bins': 2.0,\n",
    " 'LoanAmount_per_Total_Income_Bins': 1.0,\n",
    " 'Loan_Amount_Term_per_Total_Income': 0.125,\n",
    " 'Gender_Male': 1.0,\n",
    " 'Married_Yes': 0.0,\n",
    " 'Education_Not Graduate': 0.0,\n",
    " 'Self_Employed_Yes': 0.0\n",
    "}\n",
    "\n",
    "Declined = {'Dependents': 0.0,\n",
    " 'LoanAmount': 74000.0,\n",
    " 'Loan_Amount_Term': 360.0,\n",
    " 'Credit_History': 1.0,\n",
    " 'Property_Area': 2.0,\n",
    " 'Credit_History_Income_Sum': 5550331.91998864,\n",
    " 'Dependents_LoanAmount_Sum': 72780000.0,\n",
    " 'Dependents_EMI_mean': 1121.6651819119277,\n",
    " 'Loan_Amount_Term_per_Total_Income': 0.09130103981739791,\n",
    " 'EMI_per_Loan_Amount_Term': 1.7265410516666668,\n",
    " 'EMI_per_LoanAmount': 0.0083993889,\n",
    " 'Property_Area_LoanAmount_per_Total_Income_mean': 23.36319041854885,\n",
    " 'Loan_Amount_Term_Bins': 1.0,\n",
    " 'Total_Income_Bins': 1.0,\n",
    " 'LoanAmount_per_Total_Income_Bins': 1.0,\n",
    " 'Gender_Male': 1.0,\n",
    " 'Married_Yes': 0.0,\n",
    " 'Education_Not Graduate': 0.0,\n",
    " 'Self_Employed_Yes': 0.0\n",
    "}"
   ]
  },
  {
   "cell_type": "code",
   "execution_count": 6,
   "metadata": {},
   "outputs": [],
   "source": [
    "inputs = {\n",
    "  \"inputs\": [\n",
    "    { \n",
    "      \"name\": \"ndarray\",\n",
    "      \"shape\": [2,19],\n",
    "      \"datatype\": \"FP32\",\n",
    "      \"data\": [\n",
    "        list(Approved.values()),\n",
    "        list(Declined.values())  \n",
    "      ]\n",
    "    }\n",
    "  ],\n",
    "    \"outputs\": [\n",
    "        {\n",
    "            \"name\": \"predict\"\n",
    "        },\n",
    "        {\n",
    "            \"name\": \"predict_proba\"\n",
    "        }\n",
    "    ]\n",
    "}"
   ]
  },
  {
   "cell_type": "code",
   "execution_count": 7,
   "metadata": {},
   "outputs": [
    {
     "name": "stdout",
     "output_type": "stream",
     "text": [
      "[{'name': 'predict', 'shape': [2], 'datatype': 'FP64', 'parameters': None, 'data': [1.0, 0.0]}, {'name': 'predict_proba', 'shape': [2, 2], 'datatype': 'FP64', 'parameters': None, 'data': [0.3284196527929984, 0.6715803472070015, 0.6996414316032933, 0.3003585683967066]}]\n"
     ]
    }
   ],
   "source": [
    "json_request = json.dumps(inputs)\n",
    "# print(json_request)\n",
    "response = requests.post(URL, headers=headers, data=json_request, verify=False)\n",
    "# print(response)\n",
    "# print(response.json())\n",
    "outputs = response.json()[\"outputs\"]\n",
    "print(outputs)"
   ]
  },
  {
   "cell_type": "markdown",
   "metadata": {
    "tags": []
   },
   "source": [
    "# Approved"
   ]
  },
  {
   "cell_type": "code",
   "execution_count": 8,
   "metadata": {},
   "outputs": [
    {
     "name": "stdout",
     "output_type": "stream",
     "text": [
      "Prediction: 1.0\n",
      "Probability: 0.67\n"
     ]
    }
   ],
   "source": [
    "status = outputs[0][\"data\"][0]\n",
    "probability = np.array(outputs[1][\"data\"])[1]\n",
    "\n",
    "output = {\"probability\": probability, \"Loan_Status\": status }\n",
    "print(\"Prediction: {}\\nProbability: {:.2f}\".format(output[\"Loan_Status\"],output[\"probability\"]))"
   ]
  },
  {
   "cell_type": "markdown",
   "metadata": {
    "tags": []
   },
   "source": [
    "# Declined"
   ]
  },
  {
   "cell_type": "code",
   "execution_count": 9,
   "metadata": {},
   "outputs": [
    {
     "name": "stdout",
     "output_type": "stream",
     "text": [
      "Prediction: 0.0\n",
      "Probability: 0.30\n"
     ]
    }
   ],
   "source": [
    "status = outputs[0][\"data\"][1]\n",
    "probability = np.array(outputs[1][\"data\"])[3]\n",
    "\n",
    "output = {\"probability\": probability, \"Loan_Status\": status }\n",
    "print(\"Prediction: {}\\nProbability: {:.2f}\".format(output[\"Loan_Status\"],output[\"probability\"]))"
   ]
  },
  {
   "cell_type": "code",
   "execution_count": null,
   "metadata": {},
   "outputs": [],
   "source": []
  }
 ],
 "metadata": {
  "kernelspec": {
   "display_name": "Python 3 (ipykernel)",
   "language": "python",
   "name": "python3"
  },
  "kubeflow_notebook": {
   "autosnapshot": false,
   "docker_image": "devsds/kubeflow-kale:latest",
   "experiment": {
    "id": "new",
    "name": "testing-loan-approval"
   },
   "experiment_name": "testing-loan-approval",
   "katib_metadata": {
    "algorithm": {
     "algorithmName": "grid"
    },
    "maxFailedTrialCount": 3,
    "maxTrialCount": 12,
    "objective": {
     "objectiveMetricName": "",
     "type": "minimize"
    },
    "parallelTrialCount": 3,
    "parameters": []
   },
   "katib_run": false,
   "pipeline_description": "",
   "pipeline_name": "loan-approval-prediction",
   "snapshot_volumes": false,
   "steps_defaults": [
    "label:access-ml-pipeline:true",
    "label:add-external-df-volume:true",
    "label:add-kubeconfig-secret:true"
   ],
   "volume_access_mode": "rwm",
   "volumes": []
  },
  "language_info": {
   "codemirror_mode": {
    "name": "ipython",
    "version": 3
   },
   "file_extension": ".py",
   "mimetype": "text/x-python",
   "name": "python",
   "nbconvert_exporter": "python",
   "pygments_lexer": "ipython3",
   "version": "3.8.10"
  }
 },
 "nbformat": 4,
 "nbformat_minor": 4
}

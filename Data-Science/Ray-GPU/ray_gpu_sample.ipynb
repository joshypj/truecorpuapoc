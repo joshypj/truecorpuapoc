{
 "cells": [
  {
   "cell_type": "code",
   "execution_count": 2,
   "id": "4e4c253f-9a76-40c0-841c-c57abf7edd32",
   "metadata": {},
   "outputs": [
    {
     "name": "stdout",
     "output_type": "stream",
     "text": [
      "Collecting tblib\n",
      "  Obtaining dependency information for tblib from https://files.pythonhosted.org/packages/9e/bd/ccb241b97e39dd8ec143418f89b3fd5752f872c862877a0f1b2d9fb9e815/tblib-2.0.0-py3-none-any.whl.metadata\n",
      "  Using cached tblib-2.0.0-py3-none-any.whl.metadata (25 kB)\n",
      "Using cached tblib-2.0.0-py3-none-any.whl (11 kB)\n",
      "Installing collected packages: tblib\n",
      "Successfully installed tblib-2.0.0\n"
     ]
    }
   ],
   "source": [
    "# Setting Test Automation Parameters\n",
    "CLUSTER_LOCATION = \"LR1\"\n",
    "HTTP_PROXY = \"http://hpeproxy.its.hpecorp.net:80\"\n",
    "\n",
    "if CLUSTER_LOCATION in ('LR1','AIRGAP'):\n",
    "    !pip --proxy {HTTP_PROXY} install tblib\n",
    "else:\n",
    "    !pip install tblib"
   ]
  },
  {
   "cell_type": "code",
   "execution_count": 1,
   "id": "8f3d5656-632b-4899-9b74-8d3933bfe40d",
   "metadata": {},
   "outputs": [
    {
     "name": "stderr",
     "output_type": "stream",
     "text": [
      "2023-07-30 19:35:05.508868: I tensorflow/core/util/port.cc:110] oneDNN custom operations are on. You may see slightly different numerical results due to floating-point round-off errors from different computation orders. To turn them off, set the environment variable `TF_ENABLE_ONEDNN_OPTS=0`.\n",
      "2023-07-30 19:35:05.510718: I tensorflow/tsl/cuda/cudart_stub.cc:28] Could not find cuda drivers on your machine, GPU will not be used.\n",
      "2023-07-30 19:35:05.550742: I tensorflow/tsl/cuda/cudart_stub.cc:28] Could not find cuda drivers on your machine, GPU will not be used.\n",
      "2023-07-30 19:35:05.551404: I tensorflow/core/platform/cpu_feature_guard.cc:182] This TensorFlow binary is optimized to use available CPU instructions in performance-critical operations.\n",
      "To enable the following instructions: AVX2 AVX512F AVX512_VNNI FMA, in other operations, rebuild TensorFlow with the appropriate compiler flags.\n",
      "2023-07-30 19:35:06.260530: W tensorflow/compiler/tf2tensorrt/utils/py_utils.cc:38] TF-TRT Warning: Could not find TensorRT\n",
      "2023-07-30 19:35:07,257\tINFO client_builder.py:252 -- Passing the following kwargs to ray.init() on the server: ignore_reinit_error\n",
      "\u001b[2m\u001b[36m(pid=6414, ip=10.224.0.185)\u001b[0m 2023-07-30 12:35:13.885862: I tensorflow/core/platform/cpu_feature_guard.cc:193] This TensorFlow binary is optimized with oneAPI Deep Neural Network Library (oneDNN) to use the following CPU instructions in performance-critical operations:  AVX2 AVX512F AVX512_VNNI FMA\n",
      "\u001b[2m\u001b[36m(pid=6414, ip=10.224.0.185)\u001b[0m To enable them in other operations, rebuild TensorFlow with the appropriate compiler flags.\n",
      "\u001b[2m\u001b[36m(pid=6414, ip=10.224.0.185)\u001b[0m 2023-07-30 12:35:13.999128: I tensorflow/core/util/port.cc:104] oneDNN custom operations are on. You may see slightly different numerical results due to floating-point round-off errors from different computation orders. To turn them off, set the environment variable `TF_ENABLE_ONEDNN_OPTS=0`.\n",
      "\u001b[2m\u001b[36m(pid=6414, ip=10.224.1.98)\u001b[0m 2023-07-30 12:35:13.885862: I tensorflow/core/platform/cpu_feature_guard.cc:193] This TensorFlow binary is optimized with oneAPI Deep Neural Network Library (oneDNN) to use the following CPU instructions in performance-critical operations:  AVX2 AVX512F AVX512_VNNI FMA\n",
      "\u001b[2m\u001b[36m(pid=6414, ip=10.224.1.98)\u001b[0m To enable them in other operations, rebuild TensorFlow with the appropriate compiler flags.\n",
      "\u001b[2m\u001b[36m(pid=6414, ip=10.224.1.98)\u001b[0m 2023-07-30 12:35:13.999128: I tensorflow/core/util/port.cc:104] oneDNN custom operations are on. You may see slightly different numerical results due to floating-point round-off errors from different computation orders. To turn them off, set the environment variable `TF_ENABLE_ONEDNN_OPTS=0`.\n",
      "\u001b[2m\u001b[36m(pid=6414)\u001b[0m 2023-07-30 12:35:13.885862: I tensorflow/core/platform/cpu_feature_guard.cc:193] This TensorFlow binary is optimized with oneAPI Deep Neural Network Library (oneDNN) to use the following CPU instructions in performance-critical operations:  AVX2 AVX512F AVX512_VNNI FMA\n",
      "\u001b[2m\u001b[36m(pid=6414)\u001b[0m To enable them in other operations, rebuild TensorFlow with the appropriate compiler flags.\n",
      "\u001b[2m\u001b[36m(pid=6414)\u001b[0m 2023-07-30 12:35:13.999128: I tensorflow/core/util/port.cc:104] oneDNN custom operations are on. You may see slightly different numerical results due to floating-point round-off errors from different computation orders. To turn them off, set the environment variable `TF_ENABLE_ONEDNN_OPTS=0`.\n",
      "\u001b[2m\u001b[36m(pid=6414, ip=10.224.0.185)\u001b[0m 2023-07-30 12:35:14.589934: W tensorflow/compiler/xla/stream_executor/platform/default/dso_loader.cc:64] Could not load dynamic library 'libnvinfer.so.7'; dlerror: libnvinfer.so.7: cannot open shared object file: No such file or directory; LD_LIBRARY_PATH: /usr/local/nvidia/lib:/usr/local/nvidia/lib64\n",
      "\u001b[2m\u001b[36m(pid=6414, ip=10.224.0.185)\u001b[0m 2023-07-30 12:35:14.591107: W tensorflow/compiler/xla/stream_executor/platform/default/dso_loader.cc:64] Could not load dynamic library 'libnvinfer_plugin.so.7'; dlerror: libnvinfer_plugin.so.7: cannot open shared object file: No such file or directory; LD_LIBRARY_PATH: /usr/local/nvidia/lib:/usr/local/nvidia/lib64\n",
      "\u001b[2m\u001b[36m(pid=6414, ip=10.224.0.185)\u001b[0m 2023-07-30 12:35:14.591137: W tensorflow/compiler/tf2tensorrt/utils/py_utils.cc:38] TF-TRT Warning: Cannot dlopen some TensorRT libraries. If you would like to use Nvidia GPU with TensorRT, please make sure the missing libraries mentioned above are installed properly.\n",
      "\u001b[2m\u001b[36m(gpu_operation pid=6414, ip=10.224.0.185)\u001b[0m 2023-07-30 12:35:16.513927: I tensorflow/core/common_runtime/gpu/gpu_device.cc:1613] Created device /job:localhost/replica:0/task:0/device:GPU:0 with 7994 MB memory:  -> device: 0, name: NVIDIA A100-PCIE-40GB MIG 2g.10gb, pci bus id: 0000:86:00.0, compute capability: 8.0\n",
      "\u001b[2m\u001b[36m(pid=6765, ip=10.224.0.185)\u001b[0m 2023-07-30 12:35:17.193640: I tensorflow/core/platform/cpu_feature_guard.cc:193] This TensorFlow binary is optimized with oneAPI Deep Neural Network Library (oneDNN) to use the following CPU instructions in performance-critical operations:  AVX2 AVX512F AVX512_VNNI FMA\n",
      "\u001b[2m\u001b[36m(pid=6765, ip=10.224.0.185)\u001b[0m To enable them in other operations, rebuild TensorFlow with the appropriate compiler flags.\n",
      "\u001b[2m\u001b[36m(pid=6765)\u001b[0m 2023-07-30 12:35:17.193640: I tensorflow/core/platform/cpu_feature_guard.cc:193] This TensorFlow binary is optimized with oneAPI Deep Neural Network Library (oneDNN) to use the following CPU instructions in performance-critical operations:  AVX2 AVX512F AVX512_VNNI FMA\n",
      "\u001b[2m\u001b[36m(pid=6765)\u001b[0m To enable them in other operations, rebuild TensorFlow with the appropriate compiler flags.\n",
      "\u001b[2m\u001b[36m(pid=6765, ip=10.224.1.98)\u001b[0m 2023-07-30 12:35:17.193640: I tensorflow/core/platform/cpu_feature_guard.cc:193] This TensorFlow binary is optimized with oneAPI Deep Neural Network Library (oneDNN) to use the following CPU instructions in performance-critical operations:  AVX2 AVX512F AVX512_VNNI FMA\n",
      "\u001b[2m\u001b[36m(pid=6765, ip=10.224.1.98)\u001b[0m To enable them in other operations, rebuild TensorFlow with the appropriate compiler flags.\n",
      "\u001b[2m\u001b[36m(pid=6765, ip=10.224.0.185)\u001b[0m 2023-07-30 12:35:17.305024: I tensorflow/core/util/port.cc:104] oneDNN custom operations are on. You may see slightly different numerical results due to floating-point round-off errors from different computation orders. To turn them off, set the environment variable `TF_ENABLE_ONEDNN_OPTS=0`.\n",
      "\u001b[2m\u001b[36m(pid=6765, ip=10.224.0.185)\u001b[0m 2023-07-30 12:35:17.929374: W tensorflow/compiler/xla/stream_executor/platform/default/dso_loader.cc:64] Could not load dynamic library 'libnvinfer.so.7'; dlerror: libnvinfer.so.7: cannot open shared object file: No such file or directory; LD_LIBRARY_PATH: /usr/local/nvidia/lib:/usr/local/nvidia/lib64\n",
      "\u001b[2m\u001b[36m(pid=6765, ip=10.224.0.185)\u001b[0m 2023-07-30 12:35:17.929714: W tensorflow/compiler/xla/stream_executor/platform/default/dso_loader.cc:64] Could not load dynamic library 'libnvinfer_plugin.so.7'; dlerror: libnvinfer_plugin.so.7: cannot open shared object file: No such file or directory; LD_LIBRARY_PATH: /usr/local/nvidia/lib:/usr/local/nvidia/lib64\n",
      "\u001b[2m\u001b[36m(pid=6765, ip=10.224.0.185)\u001b[0m 2023-07-30 12:35:17.929751: W tensorflow/compiler/tf2tensorrt/utils/py_utils.cc:38] TF-TRT Warning: Cannot dlopen some TensorRT libraries. If you would like to use Nvidia GPU with TensorRT, please make sure the missing libraries mentioned above are installed properly.\n"
     ]
    },
    {
     "name": "stdout",
     "output_type": "stream",
     "text": [
      "[array([ 1,  4,  9, 16, 25]), array([ 36,  49,  64,  81, 100])]\n"
     ]
    },
    {
     "name": "stderr",
     "output_type": "stream",
     "text": [
      "\u001b[2m\u001b[36m(gpu_operation pid=6765, ip=10.224.0.185)\u001b[0m 2023-07-30 12:35:20.034089: I tensorflow/core/common_runtime/gpu/gpu_device.cc:1613] Created device /job:localhost/replica:0/task:0/device:GPU:0 with 7994 MB memory:  -> device: 0, name: NVIDIA A100-PCIE-40GB MIG 2g.10gb, pci bus id: 0000:86:00.0, compute capability: 8.0\n"
     ]
    }
   ],
   "source": [
    "import ray\n",
    "import numpy as np\n",
    "import tensorflow as tf\n",
    "\n",
    "# Please make sure about below points\n",
    "# 1. If you execute the job from a notebook, then your connection URL should be as below\n",
    "#    ray.init(address=\"ray://kuberay-head-svc.kuberay:10001\")\n",
    "# 2. For this example tensorflow package needs to installed, either install it manually or pass the installation command in init command as below\n",
    "#    ray.init(address=\"ray://kuberay-head-svc.kuberay:10001\", runtime_env={\"pip\": [\"tensorflow\"]})\n",
    "# 3. If you have proxy, then you need to add following dictionary into runtime_env parameter in ray.init method\n",
    "#    \"env_vars\": {\"http_proxy\": \"<PROXY_ADDRESS>\", \"https_proxy\": \"<PROXY_ADDRESS>\"}\n",
    "# ray.init(address=\"ray://kuberay-head-svc.kuberay:10001\", runtime_env={\"pip\": [\"tensorflow\"]})\n",
    "\n",
    "ray.init(address=\"ray://kuberay-head-svc.kuberay:10001\", ignore_reinit_error=True)\n",
    "\n",
    "@ray.remote(num_gpus=1)\n",
    "def gpu_operation(data):\n",
    "    # Perform GPU-accelerated operation\n",
    "    # Example: Square each element of the input array using TensorFlow\n",
    "    with tf.device(\"/GPU:0\"):\n",
    "        tensor = tf.constant(data)\n",
    "        squared = tf.square(tensor)\n",
    "        result = squared.numpy()\n",
    "    return result\n",
    "\n",
    "# data\n",
    "data = np.array([1, 2, 3, 4, 5, 6, 7, 8, 9, 10])\n",
    "num_chunks = 2\n",
    "\n",
    "# Split the data into chunks\n",
    "data_chunks = np.array_split(data, num_chunks)\n",
    "\n",
    "# Submit GPU operations for execution in parallel\n",
    "result_refs = [gpu_operation.remote(chunk) for chunk in data_chunks]\n",
    "\n",
    "# Retrieve the results\n",
    "results = ray.get(result_refs)\n",
    "\n",
    "print(results)\n",
    "\n",
    "ray.shutdown()"
   ]
  },
  {
   "cell_type": "code",
   "execution_count": null,
   "id": "43568f19-3448-4fef-9380-7d00eb64d955",
   "metadata": {},
   "outputs": [],
   "source": []
  }
 ],
 "metadata": {
  "kernelspec": {
   "display_name": "Python 3 (ipykernel)",
   "language": "python",
   "name": "python3"
  },
  "language_info": {
   "codemirror_mode": {
    "name": "ipython",
    "version": 3
   },
   "file_extension": ".py",
   "mimetype": "text/x-python",
   "name": "python",
   "nbconvert_exporter": "python",
   "pygments_lexer": "ipython3",
   "version": "3.8.10"
  }
 },
 "nbformat": 4,
 "nbformat_minor": 5
}

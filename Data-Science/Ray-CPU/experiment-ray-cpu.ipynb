{
 "cells": [
  {
   "cell_type": "code",
   "execution_count": null,
   "id": "dd464eb9-d675-4d1c-9f27-103cfec2c731",
   "metadata": {},
   "outputs": [
    {
     "name": "stderr",
     "output_type": "stream",
     "text": [
      "2023-07-30 15:08:26,825\tINFO client_builder.py:252 -- Passing the following kwargs to ray.init() on the server: ignore_reinit_error\n"
     ]
    },
    {
     "name": "stdout",
     "output_type": "stream",
     "text": [
      "Finished in 0.00\n",
      "=============: {'node:10.244.0.164': 1.0, 'node:10.244.1.154': 1.0, 'object_store_memory': 4673303347.0, 'memory': 16000000000.0, 'CPU': 3.0}\n"
     ]
    },
    {
     "name": "stderr",
     "output_type": "stream",
     "text": [
      "\u001b[2m\u001b[36m(raylet, ip=10.244.1.154)\u001b[0m Spilled 5340 MiB, 7 objects, write throughput 47 MiB/s.\n"
     ]
    }
   ],
   "source": [
    "import ray \n",
    "import numpy as np\n",
    "import logging\n",
    "import time\n",
    "\n",
    "import warnings\n",
    "warnings.filterwarnings('ignore') \n",
    "\n",
    "Stime = time.perf_counter()\n",
    "\n",
    "# Initialize the logger\n",
    "logger = logging.getLogger(__name__)\n",
    "logging.basicConfig(level=logging.INFO)\n",
    "\n",
    "# Function that runs a computation on CPU\n",
    "@ray.remote(num_cpus=1)\n",
    "def perform_cpu_task():\n",
    "    try:\n",
    "        # Check if CPU is available and being utilized\n",
    "        if ray.get_gpu_ids():\n",
    "            # Perform metric multiplication on the CPU using NumPy\n",
    "            a = np.array([[1, 2], [3, 4]], dtype=np.float32)\n",
    "            b = np.array([[5, 6], [7, 8]], dtype=np.float32)\n",
    "            result = np.matmul(a, b)\n",
    "            return result\n",
    "        else:\n",
    "            logger.error(\"GPU not available.\")\n",
    "            return None\n",
    "    except Exception as e:\n",
    "        logger.error(f\"Error in GPU task: {e}\")\n",
    "        return None\n",
    "    \n",
    "@ray.remote(num_cpus=1)\n",
    "def create_matrix(size):\n",
    "    return np.random.normal(size=size)\n",
    "\n",
    "@ray.remote(num_cpus=1)\n",
    "def multiply_matrices(x, y):\n",
    "    return np.dot(x, y)\n",
    "\n",
    "@ray.remote(num_cpus=1)\n",
    "def sum_matrices(x, y):\n",
    "    return np.add(x, y)\n",
    "\n",
    "print(f\"Finished in {time.perf_counter()-Stime:.2f}\")\n",
    "\n",
    "def main():\n",
    "    try:\n",
    "        # Initialize Ray\n",
    "        ray.init(address=\"ray://kuberay-head-svc.kuberay:10001\", ignore_reinit_error=True)\n",
    "        \n",
    "        print(\"=============:\", ray.cluster_resources())\n",
    "\n",
    "        # Call the remote function on GPU\n",
    "        m1 = create_matrix.remote([10000, 10000])\n",
    "        m2 = create_matrix.remote([10000, 10000])\n",
    "        m3 = create_matrix.remote([10000, 10000])\n",
    "        m4 = create_matrix.remote([10000, 10000])\n",
    "\n",
    "        m12 = multiply_matrices.remote(m1, m2)\n",
    "        m34 = multiply_matrices.remote(m3, m4)\n",
    "\n",
    "        a12_34 =  sum_matrices.remote(m12, m34)\n",
    "\n",
    "        ## Results\n",
    "        MM = ray.get(a12_34)\n",
    "        result = ray.get(perform_cpu_task.remote())\n",
    "        \n",
    "        if result is not None:\n",
    "            logger.info(\"Metric Multiplication Result on CPU:\")\n",
    "            logger.info(result)\n",
    "            logger.info(MM)\n",
    "        else:\n",
    "            logger.error(\"CPU task failed.\")\n",
    "    except Exception as e:\n",
    "        logger.error(f\"Error in main: {e}\")\n",
    "    finally:\n",
    "        # Shutdown Ray gracefully\n",
    "        ray.shutdown()\n",
    "\n",
    "if __name__ == \"__main__\":\n",
    "    main()\n"
   ]
  }
 ],
 "metadata": {
  "kernelspec": {
   "display_name": "Python 3 (ipykernel)",
   "language": "python",
   "name": "python3"
  },
  "language_info": {
   "codemirror_mode": {
    "name": "ipython",
    "version": 3
   },
   "file_extension": ".py",
   "mimetype": "text/x-python",
   "name": "python",
   "nbconvert_exporter": "python",
   "pygments_lexer": "ipython3",
   "version": "3.8.10"
  }
 },
 "nbformat": 4,
 "nbformat_minor": 5
}

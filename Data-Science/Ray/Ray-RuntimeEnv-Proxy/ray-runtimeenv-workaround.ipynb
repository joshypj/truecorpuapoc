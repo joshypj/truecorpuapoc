{
 "cells": [
  {
   "cell_type": "code",
   "execution_count": null,
   "metadata": {},
   "outputs": [],
   "source": [
    "%env RAY_verbose_spill_logs=0"
   ]
  },
  {
   "cell_type": "code",
   "execution_count": null,
   "metadata": {},
   "outputs": [],
   "source": [
    "import ray\n",
    "\n",
    "# Define the runtime_env specification\n",
    "runtime_env = {\n",
    "    \"env_vars\":{\"HTTP_PROXY\": \"http://10.78.90.46:80\", \"HTTPS_PROXY\": \"http://10.78.90.46:80\", \"http_proxy\": \"http://10.78.90.46:80\", \"https_proxy\": \"http://10.78.90.46:80\"}\n",
    "}\n",
    "\n",
    "@ray.remote(runtime_env=runtime_env)\n",
    "def wrkaround_remote_function():\n",
    "    try:\n",
    "        # Install required packages within the function\n",
    "        import subprocess\n",
    "        subprocess.run([\"pip\", \"install\", \"numpy\", \"pandas\"])\n",
    "       \n",
    "        # Now you can import and use the packages\n",
    "        import numpy\n",
    "        import pandas\n",
    "\n",
    "        # ... data science engineer and software developers can write code following ...\n",
    "\n",
    "    except Exception as e:\n",
    "        print(f\"An error occurred: {e}\")\n",
    "\n",
    "\n",
    "def main():\n",
    "    ray.init(address=\"ray://kuberay-head-svc.kuberay:10001\", ignore_reinit_error=True, logging_level=\"INFO\", runtime_env=runtime_env)\n",
    "\n",
    "    # Annotate the remote function with runtime_env\n",
    "    # Install packages asynchronously\n",
    "    remote_fn_ids = [wrkaround_remote_function.remote() for _ in range(10)]\n",
    "\n",
    "    # Wait for all tasks to complete\n",
    "    ray.get(remote_fn_ids)\n",
    "\n",
    "    # Shutdown the Ray cluster\n",
    "    ray.shutdown()\n",
    "\n",
    "if __name__ == \"__main__\":\n",
    "    main()"
   ]
  }
 ],
 "metadata": {
  "language_info": {
   "name": "python"
  },
  "orig_nbformat": 4
 },
 "nbformat": 4,
 "nbformat_minor": 2
}

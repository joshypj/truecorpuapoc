{
 "cells": [
  {
   "cell_type": "code",
   "execution_count": 1,
   "id": "06c8e42c-f0ed-46c3-8f77-0d9bcf690c3b",
   "metadata": {
    "tags": [
     "block:tt"
    ]
   },
   "outputs": [
    {
     "name": "stdout",
     "output_type": "stream",
     "text": [
      "env: RAY_verbose_spill_logs=0\n",
      "env: RAY_SESSION_DIR=\"/home/ray/\"\n"
     ]
    }
   ],
   "source": [
    "%env RAY_verbose_spill_logs=0\n",
    "%env RAY_SESSION_DIR=\"/home/ray/\""
   ]
  },
  {
   "cell_type": "code",
   "execution_count": 2,
   "id": "5fe4cd88-135e-4aae-af51-12876c3f480e",
   "metadata": {},
   "outputs": [
    {
     "name": "stderr",
     "output_type": "stream",
     "text": [
      "2023-08-16 11:02:23,943\tINFO client_builder.py:237 -- Passing the following kwargs to ray.init() on the server: ignore_reinit_error\n"
     ]
    },
    {
     "name": "stdout",
     "output_type": "stream",
     "text": [
      "result-value: 338350 || result-file-path: ./shared/custompath/result_0.txt\n",
      "result-value: 338350 || result-file-path: ./shared/custompath/result_1.txt\n",
      "result-value: 338350 || result-file-path: ./shared/custompath/result_2.txt\n",
      "result-value: 338350 || result-file-path: ./shared/custompath/result_3.txt\n",
      "result-value: 338350 || result-file-path: ./shared/custompath/result_4.txt\n",
      "result-value: 338350 || result-file-path: ./shared/custompath/result_5.txt\n",
      "result-value: 338350 || result-file-path: ./shared/custompath/result_6.txt\n",
      "result-value: 338350 || result-file-path: ./shared/custompath/result_7.txt\n",
      "result-value: 338350 || result-file-path: ./shared/custompath/result_8.txt\n",
      "result-value: 338350 || result-file-path: ./shared/custompath/result_9.txt\n",
      "Total sum of squares: 3383500\n",
      "THE CUSTOM FILE PATH JOB END\n"
     ]
    }
   ],
   "source": [
    "import ray\n",
    "import os\n",
    "from concurrent.futures import ThreadPoolExecutor\n",
    "from minio import Minio\n",
    "import urllib3\n",
    "import uuid\n",
    "import requests\n",
    "from requests.packages.urllib3.exceptions import InsecureRequestWarning\n",
    "requests.packages.urllib3.disable_warnings(InsecureRequestWarning)\n",
    "import time\n",
    "import pickle\n",
    "\n",
    "# Defined the function that calculates the sum of squares\n",
    "def calculate_sum_of_squares(n):\n",
    "    return sum(i * i for i in range(1, n+1))\n",
    "\n",
    "\n",
    "# Function to distribute the computation and write results\n",
    "def distributed_task(worker_id, n, shared_storage_path):\n",
    "    result = calculate_sum_of_squares(n)\n",
    "    result_file = os.path.join(shared_storage_path, f\"result_{worker_id}.txt\")\n",
    "    print(\"result-value:\", result,\"||\", \"result-file-path:\", result_file)\n",
    "    with open(result_file, \"w\") as f:\n",
    "        f.write(str(result))\n",
    "    return result_file\n",
    "\n",
    "\n",
    "def main():\n",
    "    # Initialize the RAY cluster\n",
    "    ray.init(address=\"ray://kuberay-head-svc.kuberay:10001\", ignore_reinit_error=True, )\n",
    "\n",
    "    # Shared storage path\n",
    "    shared_storage_path = \"./shared/custompath/\"\n",
    "    result_file=\"\"\n",
    "\n",
    "    # Number of workers to use\n",
    "    num_loops = 10\n",
    "    total_sum = 0\n",
    "        \n",
    "    # Number to calculate sum of squares up to\n",
    "    N = 100\n",
    "\n",
    "    # Launch distributed tasks using ThreadPoolExecutor\n",
    "    with ThreadPoolExecutor(max_workers=num_loops) as executor:\n",
    "        task_futures = [executor.submit(distributed_task, i, N, shared_storage_path) for i in range(num_loops)]\n",
    "    \n",
    "    # Get results\n",
    "    results = [future.result() for future in task_futures]\n",
    "    # print(results)\n",
    "    \n",
    "    for i in range(0, int(len(results))):\n",
    "        with open(results[i], \"r\") as f:\n",
    "            total_sum += int(f.read())\n",
    "            \n",
    "    print(\"Total sum of squares:\", total_sum)\n",
    "\n",
    "    # Shutdown the RAY cluster\n",
    "    ray.shutdown()\n",
    "    \n",
    "if __name__==\"__main__\":\n",
    "    main()\n",
    "    print(\"THE CUSTOM FILE PATH JOB END\")"
   ]
  },
  {
   "cell_type": "code",
   "execution_count": null,
   "id": "d4a2591a-4e67-49b2-8f1b-259e7d846131",
   "metadata": {},
   "outputs": [],
   "source": []
  }
 ],
 "metadata": {
  "kernelspec": {
   "display_name": "Python 3 (ipykernel)",
   "language": "python",
   "name": "python3"
  },
  "kubeflow_notebook": {
   "autosnapshot": false,
   "docker_image": "gcr.io/mapr-252711/kubeflow/notebooks/jupyter-tensorflow-full:ezaf-fy23-q3",
   "experiment": {
    "id": "new",
    "name": "test"
   },
   "experiment_name": "test",
   "katib_run": false,
   "pipeline_description": "",
   "pipeline_name": "test",
   "snapshot_volumes": false,
   "steps_defaults": [
    "label:access-ml-pipeline:true",
    "label:add-external-df-volume:true",
    "label:add-ldapcert-secret:true",
    "label:add-sssd-secret:true",
    "label:add-user-s3-secret:true"
   ],
   "volume_access_mode": "rwm",
   "volumes": [
    {
     "annotations": [],
     "mount_point": "/mnt/test",
     "name": "test-colume",
     "size": "4",
     "size_type": "Gi",
     "snapshot": false,
     "snapshot_name": "",
     "type": "new_pvc"
    }
   ]
  },
  "language_info": {
   "codemirror_mode": {
    "name": "ipython",
    "version": 3
   },
   "file_extension": ".py",
   "mimetype": "text/x-python",
   "name": "python",
   "nbconvert_exporter": "python",
   "pygments_lexer": "ipython3",
   "version": "3.8.10"
  }
 },
 "nbformat": 4,
 "nbformat_minor": 5
}

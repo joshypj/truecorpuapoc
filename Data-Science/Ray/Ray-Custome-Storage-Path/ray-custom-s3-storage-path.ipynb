{
 "cells": [
  {
   "cell_type": "code",
   "execution_count": 1,
   "id": "06c8e42c-f0ed-46c3-8f77-0d9bcf690c3b",
   "metadata": {
    "tags": [
     "block:tt"
    ]
   },
   "outputs": [
    {
     "name": "stdout",
     "output_type": "stream",
     "text": [
      "env: RAY_verbose_spill_logs=0\n",
      "env: RAY_SESSION_DIR=\"/home/ray/\"\n"
     ]
    }
   ],
   "source": [
    "%env RAY_verbose_spill_logs=0\n",
    "%env RAY_SESSION_DIR=\"/home/ray/\""
   ]
  },
  {
   "cell_type": "code",
   "execution_count": 2,
   "id": "5fe4cd88-135e-4aae-af51-12876c3f480e",
   "metadata": {},
   "outputs": [
    {
     "name": "stderr",
     "output_type": "stream",
     "text": [
      "2023-08-16 12:18:30,390\tINFO client_builder.py:237 -- Passing the following kwargs to ray.init() on the server: ignore_reinit_error\n"
     ]
    },
    {
     "name": "stdout",
     "output_type": "stream",
     "text": [
      "s3_client: <botocore.client.S3 object at 0x7fb4d6403190>\n",
      "task_futures: [<Future at 0x7fb4c84d68e0 state=running>, <Future at 0x7fb4c84e8670 state=running>, <Future at 0x7fb4c84e8cd0 state=running>, <Future at 0x7fb4c8475370 state=running>, <Future at 0x7fb4c8475760 state=running>, <Future at 0x7fb4c8475b50 state=running>, <Future at 0x7fb4c8475f40 state=running>, <Future at 0x7fb4c847b370 state=running>, <Future at 0x7fb4c847b760 state=running>, <Future at 0x7fb4c847bb50 state=running>]\n",
      "result_file: result_0.txt || s3_bucket: experiments || s3_key: result_0.txt\n",
      "result_file: result_2.txt || s3_bucket: experiments || s3_key: result_2.txt\n",
      "result_file: result_1.txt || s3_bucket: experiments || s3_key: result_1.txt\n",
      "result_file: result_4.txt || s3_bucket: experiments || s3_key: result_4.txt\n",
      "result_file: result_3.txt || s3_bucket: experiments || s3_key: result_3.txt\n",
      "result_file: result_5.txt || s3_bucket: experiments || s3_key: result_5.txt\n",
      "result_file: result_6.txt || s3_bucket: experiments || s3_key: result_6.txt\n",
      "result_file: result_7.txt || s3_bucket: experiments || s3_key: result_7.txt\n",
      "result_file: result_8.txt || s3_bucket: experiments || s3_key: result_8.txt\n",
      "result_file: result_9.txt || s3_bucket: experiments || s3_key: result_9.txt\n"
     ]
    },
    {
     "name": "stderr",
     "output_type": "stream",
     "text": [
      "/opt/conda/lib/python3.8/site-packages/urllib3/connectionpool.py:1056: InsecureRequestWarning: Unverified HTTPS request is being made to host 'home.hpe-apps-ezaf.com'. Adding certificate verification is strongly advised. See: https://urllib3.readthedocs.io/en/1.26.x/advanced-usage.html#ssl-warnings\n",
      "  warnings.warn(\n",
      "/opt/conda/lib/python3.8/site-packages/urllib3/connectionpool.py:1056: InsecureRequestWarning: Unverified HTTPS request is being made to host 'home.hpe-apps-ezaf.com'. Adding certificate verification is strongly advised. See: https://urllib3.readthedocs.io/en/1.26.x/advanced-usage.html#ssl-warnings\n",
      "  warnings.warn(\n",
      "/opt/conda/lib/python3.8/site-packages/urllib3/connectionpool.py:1056: InsecureRequestWarning: Unverified HTTPS request is being made to host 'home.hpe-apps-ezaf.com'. Adding certificate verification is strongly advised. See: https://urllib3.readthedocs.io/en/1.26.x/advanced-usage.html#ssl-warnings\n",
      "  warnings.warn(\n",
      "/opt/conda/lib/python3.8/site-packages/urllib3/connectionpool.py:1056: InsecureRequestWarning: Unverified HTTPS request is being made to host 'home.hpe-apps-ezaf.com'. Adding certificate verification is strongly advised. See: https://urllib3.readthedocs.io/en/1.26.x/advanced-usage.html#ssl-warnings\n",
      "  warnings.warn(\n",
      "/opt/conda/lib/python3.8/site-packages/urllib3/connectionpool.py:1056: InsecureRequestWarning: Unverified HTTPS request is being made to host 'home.hpe-apps-ezaf.com'. Adding certificate verification is strongly advised. See: https://urllib3.readthedocs.io/en/1.26.x/advanced-usage.html#ssl-warnings\n",
      "  warnings.warn(\n",
      "/opt/conda/lib/python3.8/site-packages/urllib3/connectionpool.py:1056: InsecureRequestWarning: Unverified HTTPS request is being made to host 'home.hpe-apps-ezaf.com'. Adding certificate verification is strongly advised. See: https://urllib3.readthedocs.io/en/1.26.x/advanced-usage.html#ssl-warnings\n",
      "  warnings.warn(\n",
      "/opt/conda/lib/python3.8/site-packages/urllib3/connectionpool.py:1056: InsecureRequestWarning: Unverified HTTPS request is being made to host 'home.hpe-apps-ezaf.com'. Adding certificate verification is strongly advised. See: https://urllib3.readthedocs.io/en/1.26.x/advanced-usage.html#ssl-warnings\n",
      "  warnings.warn(\n",
      "/opt/conda/lib/python3.8/site-packages/urllib3/connectionpool.py:1056: InsecureRequestWarning: Unverified HTTPS request is being made to host 'home.hpe-apps-ezaf.com'. Adding certificate verification is strongly advised. See: https://urllib3.readthedocs.io/en/1.26.x/advanced-usage.html#ssl-warnings\n",
      "  warnings.warn(\n",
      "/opt/conda/lib/python3.8/site-packages/urllib3/connectionpool.py:1056: InsecureRequestWarning: Unverified HTTPS request is being made to host 'home.hpe-apps-ezaf.com'. Adding certificate verification is strongly advised. See: https://urllib3.readthedocs.io/en/1.26.x/advanced-usage.html#ssl-warnings\n",
      "  warnings.warn(\n",
      "/opt/conda/lib/python3.8/site-packages/urllib3/connectionpool.py:1056: InsecureRequestWarning: Unverified HTTPS request is being made to host 'home.hpe-apps-ezaf.com'. Adding certificate verification is strongly advised. See: https://urllib3.readthedocs.io/en/1.26.x/advanced-usage.html#ssl-warnings\n",
      "  warnings.warn(\n"
     ]
    },
    {
     "name": "stdout",
     "output_type": "stream",
     "text": [
      "CUSTOM S3 PATH JOB ENDED\n"
     ]
    }
   ],
   "source": [
    "import ray\n",
    "import os\n",
    "import boto3\n",
    "from concurrent.futures import ThreadPoolExecutor\n",
    "\n",
    "# Number of workers to use\n",
    "num_loops = 10\n",
    "\n",
    "# Number to calculate sum of squares up to\n",
    "N = 100\n",
    "\n",
    "# Shared storage configuration\n",
    "s3_endpoint = \"https://home.hpe-apps-ezaf.com:31900\"  # MinIO endpoint\n",
    "s3_access_key = \"minioadmin\"\n",
    "s3_secret_key = \"minioadmin\"\n",
    "s3_bucket = \"experiments\"\n",
    "\n",
    "# Create an S3 client\n",
    "clientArgs = {\n",
    "        'aws_access_key_id': 'minioadmin',\n",
    "        'aws_secret_access_key': 'minioadmin',\n",
    "        'endpoint_url': 'https://home.hpe-apps-ezaf.com:31900',\n",
    "        'verify': False\n",
    "        }\n",
    "s3_client = boto3.client(\"s3\", **clientArgs)\n",
    "print(\"s3_client:\", s3_client)\n",
    "\n",
    "# Initialize the RAY cluster\n",
    "ray.init(address=\"ray://kuberay-head-svc.kuberay:10001\", ignore_reinit_error=True)\n",
    "\n",
    "# Define the function that calculates the sum of squares\n",
    "def calculate_sum_of_squares(n):\n",
    "    return sum(i * i for i in range(1, n + 1))\n",
    "\n",
    "# Function to distribute the computation and write results\n",
    "def distributed_task(worker_id, n):\n",
    "    try:\n",
    "        # Calculate the result\n",
    "        result = calculate_sum_of_squares(n)\n",
    "        \n",
    "        # Save the result to a local file\n",
    "        result_file = f\"result_{worker_id}.txt\"\n",
    "        with open(result_file, \"w\") as f:\n",
    "            f.write(str(result))\n",
    "        \n",
    "        # Upload the result file to S3\n",
    "        # s3_key = f\"{s3_bucket}/{result_file}\"\n",
    "        s3_key = f\"{result_file}\"\n",
    "        print(\"result_file:\", result_file, \"||\", \"s3_bucket:\", s3_bucket, \"||\", \"s3_key:\", s3_key)\n",
    "        \n",
    "        with open(f\"{result_file}\", 'rb') as data:\n",
    "            s3_client.upload_fileobj(data, s3_bucket, s3_key)   \n",
    "        \n",
    "        return s3_key\n",
    "    except Exception as e:\n",
    "        return str(e)\n",
    "\n",
    "# Launch distributed tasks using ThreadPoolExecutor\n",
    "with ThreadPoolExecutor(max_workers=num_loops) as executor:\n",
    "    task_futures = [executor.submit(distributed_task, i, N) for i in range(num_loops)]\n",
    "    print(\"task_futures:\", list(task_futures))\n",
    "\n",
    "print(\"CUSTOM S3 PATH JOB ENDED\")\n",
    "\n",
    "# Shutdown the RAY cluster\n",
    "ray.shutdown()\n"
   ]
  },
  {
   "cell_type": "code",
   "execution_count": null,
   "id": "d4a2591a-4e67-49b2-8f1b-259e7d846131",
   "metadata": {},
   "outputs": [],
   "source": []
  }
 ],
 "metadata": {
  "kernelspec": {
   "display_name": "Python 3 (ipykernel)",
   "language": "python",
   "name": "python3"
  },
  "kubeflow_notebook": {
   "autosnapshot": false,
   "docker_image": "gcr.io/mapr-252711/kubeflow/notebooks/jupyter-tensorflow-full:ezaf-fy23-q3",
   "experiment": {
    "id": "new",
    "name": "test"
   },
   "experiment_name": "test",
   "katib_run": false,
   "pipeline_description": "",
   "pipeline_name": "test",
   "snapshot_volumes": false,
   "steps_defaults": [
    "label:access-ml-pipeline:true",
    "label:add-external-df-volume:true",
    "label:add-ldapcert-secret:true",
    "label:add-sssd-secret:true",
    "label:add-user-s3-secret:true"
   ],
   "volume_access_mode": "rwm",
   "volumes": [
    {
     "annotations": [],
     "mount_point": "/mnt/test",
     "name": "test-colume",
     "size": "4",
     "size_type": "Gi",
     "snapshot": false,
     "snapshot_name": "",
     "type": "new_pvc"
    }
   ]
  },
  "language_info": {
   "codemirror_mode": {
    "name": "ipython",
    "version": 3
   },
   "file_extension": ".py",
   "mimetype": "text/x-python",
   "name": "python",
   "nbconvert_exporter": "python",
   "pygments_lexer": "ipython3",
   "version": "3.8.10"
  }
 },
 "nbformat": 4,
 "nbformat_minor": 5
}

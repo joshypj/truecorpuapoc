{
 "cells": [
  {
   "cell_type": "markdown",
   "id": "d8856a4e-e1a0-4f31-8cd7-f70672447fd2",
   "metadata": {
    "tags": []
   },
   "source": [
    "# Delta Lake Basic by Bordin\n",
    "## Set Up Your Spark Session for Delta Lake\n",
    "#### Before you use Delta Lake, make sure your SparkSession is set up correctly"
   ]
  },
  {
   "cell_type": "raw",
   "id": "fd59cd96-bfc5-4b24-a8df-8ce271430cb8",
   "metadata": {
    "tags": []
   },
   "source": [
    "\"spark.sql.extensions\": \"io.delta.sql.DeltaSparkSessionExtension\", \n",
    "\"spark.sql.catalog.spark_catalog\": \"org.apache.spark.sql.delta.catalog.DeltaCatalog\",\n",
    "\"spark.executor.extraJavaOptions\": \"-Dcom.amazonaws.sdk.disableCertChecking=true\",\n",
    "\"spark.driver.extraJavaOptions\": \"-Dcom.amazonaws.sdk.disableCertChecking=true\",\n",
    "\"spark.hadoop.fs.s3a.path.style.access\": true,\n",
    "\"spark.hadoop.fs.s3a.impl\": \"org.apache.hadoop.fs.s3a.S3AFileSystem\",\n",
    "\"spark.hadoop.fs.s3a.access.key\": \"PO93KAAP2YTG4RHMG499FENAFWYUH9Q91XOJYQ6UNY4R0XUVY35A53L47\",\n",
    "\"spark.hadoop.fs.s3a.secret.key\": \"UV0H7MFJI96MCFY03IMD9X6ZT8H43B3GDS8SXGA4Z7FH0QT2DSZV3ZCKTHS93Z\",\n",
    "\"spark.hadoop.fs.s3a.endpoint\": \"https://54.251.141.200:9000\""
   ]
  },
  {
   "cell_type": "code",
   "execution_count": 1,
   "id": "c57c353b-3f4a-4adc-977d-a81078467c44",
   "metadata": {},
   "outputs": [
    {
     "data": {
      "application/vnd.jupyter.widget-view+json": {
       "model_id": "22e43b65fea34d47bf263d3a1626d031",
       "version_major": 2,
       "version_minor": 0
      },
      "text/plain": [
       "MagicsControllerWidget(children=(Tab(children=(ManageSessionWidget(children=(HTML(value='<br/>'), HTML(value='…"
      ]
     },
     "metadata": {},
     "output_type": "display_data"
    }
   ],
   "source": [
    "%manage_spark"
   ]
  },
  {
   "cell_type": "code",
   "execution_count": 3,
   "id": "ae59b0cb-7747-4407-a3c2-4ddb75941118",
   "metadata": {},
   "outputs": [
    {
     "data": {
      "application/vnd.jupyter.widget-view+json": {
       "model_id": "",
       "version_major": 2,
       "version_minor": 0
      },
      "text/plain": [
       "FloatProgress(value=0.0, bar_style='info', description='Progress:', layout=Layout(height='25px', width='50%'),…"
      ]
     },
     "metadata": {},
     "output_type": "display_data"
    }
   ],
   "source": [
    "# Import necessary libraries\n",
    "from pyspark.sql import SparkSession\n",
    "from py4j.java_gateway import java_import\n",
    "java_import(spark._sc._jvm, \"org.apache.spark.sql.api.python.*\")\n",
    "from delta.tables import DeltaTable"
   ]
  },
  {
   "cell_type": "code",
   "execution_count": 4,
   "id": "2d737810-334c-4981-b99e-c14a37bd8947",
   "metadata": {},
   "outputs": [
    {
     "data": {
      "application/vnd.jupyter.widget-view+json": {
       "model_id": "",
       "version_major": 2,
       "version_minor": 0
      },
      "text/plain": [
       "FloatProgress(value=0.0, bar_style='info', description='Progress:', layout=Layout(height='25px', width='50%'),…"
      ]
     },
     "metadata": {},
     "output_type": "display_data"
    }
   ],
   "source": [
    "# Define the folder path\n",
    "delta_path = \"s3a://truepoc-bkt-raw/test/\""
   ]
  },
  {
   "cell_type": "code",
   "execution_count": 6,
   "id": "cad3727d-4d08-49bc-a025-bba910f5a7cb",
   "metadata": {},
   "outputs": [
    {
     "data": {
      "application/vnd.jupyter.widget-view+json": {
       "model_id": "",
       "version_major": 2,
       "version_minor": 0
      },
      "text/plain": [
       "FloatProgress(value=0.0, bar_style='info', description='Progress:', layout=Layout(height='25px', width='50%'),…"
      ]
     },
     "metadata": {},
     "output_type": "display_data"
    },
    {
     "name": "stdout",
     "output_type": "stream",
     "text": [
      "+---------+---------+-------------------+---------------+------------------+------------------+------------------+------------------+------------------+\n",
      "|       id|vendor_id|    pickup_datetime|passenger_count|  pickup_longitude|   pickup_latitude| dropoff_longitude|  dropoff_latitude|store_and_fwd_flag|\n",
      "+---------+---------+-------------------+---------------+------------------+------------------+------------------+------------------+------------------+\n",
      "|id3686174|        2|2016-04-04 14:36:10|              2|-73.98367309570312| 40.75807189941406|-73.99024963378906|40.748538970947266|                 N|\n",
      "|id0672137|        2|2016-04-04 14:36:03|              1|-73.97254180908203|40.756038665771484|-73.97496795654297|40.751468658447266|                 N|\n",
      "|id2263472|        2|2016-04-04 14:36:00|              1|-73.98406219482422|40.743316650390625|-73.97007751464844| 40.76292037963867|                 N|\n",
      "|id1710714|        1|2016-04-04 14:35:59|              2|-73.97333526611328| 40.76057815551758| -73.9757080078125| 40.75095748901367|                 N|\n",
      "|id0902414|        1|2016-04-04 14:35:33|              4|-74.00033569335938|40.726993560791016|-73.98897552490234| 40.76028060913086|                 N|\n",
      "+---------+---------+-------------------+---------------+------------------+------------------+------------------+------------------+------------------+\n",
      "only showing top 5 rows"
     ]
    }
   ],
   "source": [
    "# Connects to EzPresto over SSL, executes a SQL query, and loads the result into a Spark DataFrame\n",
    "df = spark.read.format(\"jdbc\").\\\n",
    "      option(\"driver\", \"com.facebook.presto.jdbc.PrestoDriver\").\\\n",
    "      option(\"url\", \"jdbc:presto://ezpresto.truepoc.ezapac.com:443\").\\\n",
    "      option(\"SSL\", \"true\").\\\n",
    "      option(\"IgnoreSSLChecks\", \"true\").\\\n",
    "      option(\"query\", \"select * from nyctaxi.default.test\").\\\n",
    "      load()\n",
    "\n",
    "df.show(5)"
   ]
  },
  {
   "cell_type": "code",
   "execution_count": 7,
   "id": "e3ae27e7-d849-4cdc-9e88-6f0038517a28",
   "metadata": {},
   "outputs": [
    {
     "data": {
      "application/vnd.jupyter.widget-view+json": {
       "model_id": "",
       "version_major": 2,
       "version_minor": 0
      },
      "text/plain": [
       "FloatProgress(value=0.0, bar_style='info', description='Progress:', layout=Layout(height='25px', width='50%'),…"
      ]
     },
     "metadata": {},
     "output_type": "display_data"
    }
   ],
   "source": [
    "# Save the DataFrame as a Delta table in the S3 bucket ---Might takes some time---\n",
    "df.write.format(\"delta\").mode(\"overwrite\").save(delta_path)"
   ]
  },
  {
   "cell_type": "code",
   "execution_count": 28,
   "id": "cfc2b33b-8a08-42d8-9ba6-91df6a92910c",
   "metadata": {},
   "outputs": [
    {
     "data": {
      "application/vnd.jupyter.widget-view+json": {
       "model_id": "",
       "version_major": 2,
       "version_minor": 0
      },
      "text/plain": [
       "FloatProgress(value=0.0, bar_style='info', description='Progress:', layout=Layout(height='25px', width='50%'),…"
      ]
     },
     "metadata": {},
     "output_type": "display_data"
    },
    {
     "name": "stdout",
     "output_type": "stream",
     "text": [
      "+---------+---------+-------------------+---------------+------------------+-----------------+------------------+------------------+------------------+\n",
      "|       id|vendor_id|    pickup_datetime|passenger_count|  pickup_longitude|  pickup_latitude| dropoff_longitude|  dropoff_latitude|store_and_fwd_flag|\n",
      "+---------+---------+-------------------+---------------+------------------+-----------------+------------------+------------------+------------------+\n",
      "|id3004672|        1|2016-06-30 23:59:58|              1|-73.98812866210938|40.73202896118164|-73.99017333984375| 40.75667953491211|                 N|\n",
      "|id3505355|        1|2016-06-30 23:59:53|              1|-73.96420288085938|40.67999267578125|-73.95980834960938| 40.65540313720703|                 N|\n",
      "|id1217141|        1|2016-06-30 23:59:47|              1| -73.9974365234375|40.73758316040039|-73.98616027832031|40.729522705078125|                 N|\n",
      "|id2150126|        2|2016-06-30 23:59:41|              1|-73.95606994628906|40.77190017700195| -73.9864273071289|       40.73046875|                 N|\n",
      "|id1598245|        1|2016-06-30 23:59:33|              1|   -73.97021484375|  40.761474609375|-73.96150970458984|40.755889892578125|                 N|\n",
      "+---------+---------+-------------------+---------------+------------------+-----------------+------------------+------------------+------------------+\n",
      "only showing top 5 rows"
     ]
    }
   ],
   "source": [
    "# Read Data from Delta\n",
    "df = spark.read.format(\"delta\").load(delta_path)\n",
    "df.show(5)"
   ]
  },
  {
   "cell_type": "markdown",
   "id": "16f57b7c-0a05-4521-8b75-06ed45e7a09c",
   "metadata": {
    "tags": []
   },
   "source": [
    "# Perform ACID Operations\n",
    "#### One of the main advantages of Delta Lake is the ability to perform ACID operations. For instance, you can update, delete, or merge data."
   ]
  },
  {
   "cell_type": "markdown",
   "id": "8aed543f-aa00-4e80-b6e7-1158cab1b516",
   "metadata": {
    "tags": []
   },
   "source": [
    "### Update"
   ]
  },
  {
   "cell_type": "code",
   "execution_count": 29,
   "id": "e4ab42d7-d2d9-4139-bf7e-346fde79cc8e",
   "metadata": {},
   "outputs": [
    {
     "data": {
      "application/vnd.jupyter.widget-view+json": {
       "model_id": "",
       "version_major": 2,
       "version_minor": 0
      },
      "text/plain": [
       "FloatProgress(value=0.0, bar_style='info', description='Progress:', layout=Layout(height='25px', width='50%'),…"
      ]
     },
     "metadata": {},
     "output_type": "display_data"
    },
    {
     "name": "stderr",
     "output_type": "stream",
     "text": [
      "An error was encountered:\n",
      "[UNRESOLVED_COLUMN.WITH_SUGGESTION] A column or function parameter with name `c_email_address` cannot be resolved. Did you mean one of the following? [`vendor_id`, `id`, `dropoff_latitude`, `pickup_datetime`, `pickup_latitude`].;\n",
      "'DeltaUpdateTable ['c_email_address], [newemail@ezmeral.sg], ('c_customer_sk = 1)\n",
      "+- Relation [id#1072,vendor_id#1073L,pickup_datetime#1074,passenger_count#1075L,pickup_longitude#1076,pickup_latitude#1077,dropoff_longitude#1078,dropoff_latitude#1079,store_and_fwd_flag#1080] parquet\n",
      "\n",
      "Traceback (most recent call last):\n",
      "  File \"/usr/lib/python3.9/site-packages/delta/tables.py\", line 153, in update\n",
      "    self._jdt.update(jcolumn, jmap)\n",
      "  File \"/opt/mapr/spark/spark-3.4.0/python/lib/py4j-0.10.9.7-src.zip/py4j/java_gateway.py\", line 1322, in __call__\n",
      "    return_value = get_return_value(\n",
      "  File \"/opt/mapr/spark/spark-3.4.0/python/lib/pyspark.zip/pyspark/errors/exceptions/captured.py\", line 175, in deco\n",
      "    raise converted from None\n",
      "pyspark.errors.exceptions.captured.AnalysisException: [UNRESOLVED_COLUMN.WITH_SUGGESTION] A column or function parameter with name `c_email_address` cannot be resolved. Did you mean one of the following? [`vendor_id`, `id`, `dropoff_latitude`, `pickup_datetime`, `pickup_latitude`].;\n",
      "'DeltaUpdateTable ['c_email_address], [newemail@ezmeral.sg], ('c_customer_sk = 1)\n",
      "+- Relation [id#1072,vendor_id#1073L,pickup_datetime#1074,passenger_count#1075L,pickup_longitude#1076,pickup_latitude#1077,dropoff_longitude#1078,dropoff_latitude#1079,store_and_fwd_flag#1080] parquet\n",
      "\n",
      "\n"
     ]
    }
   ],
   "source": [
    "# Load the Delta table\n",
    "deltaTable = DeltaTable.forPath(spark, delta_path)\n",
    "\n",
    "# Update the email address for customer with c_customer_sk = 1\n",
    "deltaTable.update(\n",
    "  condition=\"c_customer_sk = 1\",\n",
    "  set={\"c_email_address\": \"'newemail@ezmeral.sg'\"}\n",
    ")"
   ]
  },
  {
   "cell_type": "code",
   "execution_count": null,
   "id": "19b46b32-5d46-4b68-a44b-d18404577dc6",
   "metadata": {},
   "outputs": [],
   "source": [
    "# Display the updated record\n",
    "df_updated = spark.read.format(\"delta\").load(delta_path)\n",
    "df_updated.filter(\"c_customer_sk = 1\").show()"
   ]
  },
  {
   "cell_type": "markdown",
   "id": "bdea1b9e-3a9a-4538-b09b-705d17d4318d",
   "metadata": {
    "tags": []
   },
   "source": [
    "### Delete Operation"
   ]
  },
  {
   "cell_type": "code",
   "execution_count": null,
   "id": "b4ca94cf-78e6-4896-ab7c-613550176f73",
   "metadata": {},
   "outputs": [],
   "source": [
    "# Delete the records\n",
    "deltaTable.delete(condition=\"c_customer_sk = 1 AND c_email_address = 'newemail@ezapac.com'\")"
   ]
  },
  {
   "cell_type": "code",
   "execution_count": null,
   "id": "219e635f-c979-417c-9daf-19d8715c03f2",
   "metadata": {},
   "outputs": [],
   "source": [
    "# Display the records after delete operation\n",
    "df_after_delete = spark.read.format(\"delta\").load(delta_path)\n",
    "df_after_delete.filter(\"c_customer_sk = 1\").show()"
   ]
  },
  {
   "cell_type": "markdown",
   "id": "8aca3d01-1499-4135-b203-9476d556d451",
   "metadata": {
    "tags": []
   },
   "source": [
    "# Time Travel (Data Versioning)\n",
    "#### Delta Lake has built-in support for versioning. You can query an older snapshot of your Delta table by using a version number or a timestamp."
   ]
  },
  {
   "cell_type": "code",
   "execution_count": null,
   "id": "2e7ac0d8-3f08-4eb5-957d-1ea35026fe0f",
   "metadata": {},
   "outputs": [],
   "source": [
    "# Determine the Version You Want to Restore\n",
    "deltaTable.history().show(truncate=False)"
   ]
  },
  {
   "cell_type": "code",
   "execution_count": null,
   "id": "86675c1b-7244-4c48-adb6-bb7b4686215a",
   "metadata": {},
   "outputs": [],
   "source": [
    "# Restore to Previous Version Using Time Travel\n",
    "df_restored = spark.read.format(\"delta\").option(\"versionAsOf\", 1).load(delta_path)\n",
    "\n",
    "# Overwrite the Current Version with the Restored Version\n",
    "df_restored.write.format(\"delta\").mode(\"overwrite\").save(delta_path)"
   ]
  },
  {
   "cell_type": "code",
   "execution_count": null,
   "id": "36bbb669-9d66-4344-8a5f-91c1a3168079",
   "metadata": {},
   "outputs": [],
   "source": [
    "# Verify the Restoration\n",
    "df_after_restore = spark.read.format(\"delta\").load(delta_path)\n",
    "df_after_restore.filter(\"c_customer_sk = 1\").show()"
   ]
  },
  {
   "cell_type": "markdown",
   "id": "49d6cf22-904a-404f-b517-279a5907bc21",
   "metadata": {
    "jp-MarkdownHeadingCollapsed": true,
    "tags": []
   },
   "source": [
    "### Insert Operation"
   ]
  },
  {
   "cell_type": "code",
   "execution_count": null,
   "id": "d970afe4-1b11-40b0-a19e-41e773b2fc9a",
   "metadata": {},
   "outputs": [],
   "source": [
    "from pyspark.sql.types import DecimalType, Row\n",
    "from decimal import Decimal\n",
    "\n",
    "# Create a new DataFrame with the new customer data\n",
    "new_customer = spark.createDataFrame([\n",
    "    Row(c_customer_sk='1', c_customer_id=\"BBBBBBBBBB\", c_email_address=\"newBBcustomer@example.com\")\n",
    "])\n",
    "\n",
    "# Cast the c_customer_sk column to DecimalType(38,0)\n",
    "new_customer = new_customer.withColumn(\"c_customer_sk\", col(\"c_customer_sk\").cast(DecimalType(38,0)))\n",
    "\n",
    "# Append the new customer data to the Delta table\n",
    "new_customer.write.format(\"delta\").mode(\"append\").save(delta_path)"
   ]
  },
  {
   "cell_type": "code",
   "execution_count": null,
   "id": "b7a0cca8-1056-483d-b5b5-6e88c1a10709",
   "metadata": {},
   "outputs": [],
   "source": [
    "# Check result after insert\n",
    "df_after_insert = spark.read.format(\"delta\").load(delta_path)\n",
    "df_after_insert.filter(col(\"c_customer_sk\") == Decimal('1')).show()"
   ]
  }
 ],
 "metadata": {
  "kernelspec": {
   "display_name": "PySpark",
   "language": "python",
   "name": "pysparkkernel"
  },
  "kubeflow_notebook": {
   "autosnapshot": false,
   "docker_image": "gcr.io/mapr-252711/kubeflow/notebooks/jupyter-data-science:ezaf-fy23-q3",
   "experiment": {
    "id": "",
    "name": ""
   },
   "experiment_name": "",
   "katib_metadata": {
    "algorithm": {
     "algorithmName": "grid"
    },
    "maxFailedTrialCount": 3,
    "maxTrialCount": 12,
    "objective": {
     "objectiveMetricName": "",
     "type": "minimize"
    },
    "parallelTrialCount": 3,
    "parameters": []
   },
   "katib_run": false,
   "pipeline_description": "",
   "pipeline_name": "",
   "snapshot_volumes": false,
   "steps_defaults": [
    "label:access-ml-pipeline:true",
    "label:add-external-df-volume:true",
    "label:add-ldapcert-secret:true",
    "label:add-sssd-secret:true",
    "label:add-user-s3-secret:true"
   ],
   "volume_access_mode": "rwm",
   "volumes": []
  },
  "language_info": {
   "codemirror_mode": {
    "name": "python",
    "version": 3
   },
   "file_extension": ".py",
   "mimetype": "text/x-python",
   "name": "pyspark",
   "pygments_lexer": "python3"
  },
  "toc-autonumbering": false,
  "toc-showcode": false,
  "toc-showmarkdowntxt": true,
  "toc-showtags": false
 },
 "nbformat": 4,
 "nbformat_minor": 5
}
